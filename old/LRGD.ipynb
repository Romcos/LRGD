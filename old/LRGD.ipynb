{
 "cells": [
  {
   "cell_type": "markdown",
   "metadata": {},
   "source": [
    "TODOS\n",
    "- rewrite optimization functions, to pass the function and its derivatives as arguments\n",
    "- reset default values for x0 to 0\n",
    "- rewrite showtrajs in single function (not priority)\n",
    "- have a warning to tell if parameter alpha is too large [HARD CODE max 1000 iterations and signal error]\n",
    "- entirely replace current implementation of LRGD with its rank r version\n",
    "- do some testing on large synthetic regression problems OK\n",
    "- change synthetic data to have LR structure OK\n",
    "- Do LS with L1 norm regularizer\n",
    "- Do with logistic regression\n",
    "- make a verbose option for the optimization function (where they tell results in nice manner)\n",
    "- Make sure LRGD and GD work exactly the same for full rank"
   ]
  },
  {
   "cell_type": "code",
   "execution_count": 1,
   "metadata": {},
   "outputs": [],
   "source": [
    "import numpy as np\n",
    "import matplotlib.pyplot as plt\n",
    "from pylab import figure, cm\n",
    "import pandas as pd\n",
    "from adjustText import adjust_text"
   ]
  },
  {
   "cell_type": "markdown",
   "metadata": {},
   "source": [
    "# Function definition"
   ]
  },
  {
   "cell_type": "code",
   "execution_count": 17,
   "metadata": {},
   "outputs": [
    {
     "name": "stdout",
     "output_type": "stream",
     "text": [
      "f(1,1) = 3*1^2+1^2 =  4\n",
      "df(1,1) = (6x,2y) = (6,2) =  [6 2]\n",
      "deltaf((1,1),(0,1)) = 2y =  2.0\n",
      "deltafU((1,1),((0),(1)) = (0,2y) =  [0. 2.]\n"
     ]
    }
   ],
   "source": [
    "H = np.array([[3,0],[0,1]])\n",
    "\n",
    "def f(z):\n",
    "    \"\"\"The function\"\"\"\n",
    "    return (z.T).dot(H).dot(z)\n",
    "\n",
    "def df(z):\n",
    "    \"\"\"The gradient access\"\"\"\n",
    "    return 2*H.dot(z)\n",
    "\n",
    "def deltaf(z,u):\n",
    "    \"\"\"returns directional derivative of f along u\"\"\"\n",
    "    return df(z).dot(u)/np.linalg.norm(u)\n",
    "\n",
    "def deltafU(z,U):\n",
    "    \"\"\"\n",
    "    U =(u_1 | u_2 ... | u_r) orthonormal columns\n",
    "    return projection of gradient on U\n",
    "    \"\"\"\n",
    "    s = 0 #will be automatically converted to array of correct size\n",
    "    d,r = U.shape\n",
    "    for i in range(r):\n",
    "        ui = U[:,i]\n",
    "        s += deltaf(z,ui)*ui\n",
    "    return s\n",
    "\n",
    "# ctrl+/ to comment/uncomment\n",
    "# def projdf(z,U):\n",
    "#     \"\"\"returns directional derivative of f along U\n",
    "#     U : (d,rank) matrix where each column is a direction\"\"\"\n",
    "#     U_orth,_,_ = np.linalg.svd(U, full_matrices=False)\n",
    "#     return U_orth.dot(U_orth.T.dot(H.dot(z)))\n",
    "\n",
    "print(\"f(1,1) = 3*1^2+1^2 = \", f(np.array([1,1])))\n",
    "print(\"df(1,1) = (6x,2y) = (6,2) = \", df(np.array([1,1])))\n",
    "print(\"deltaf((1,1),(0,1)) = 2y = \", deltaf(np.array([1,1]), np.array([0,1])))\n",
    "print(\"deltafU((1,1),((0),(1)) = (0,2y) = \", deltafU(np.array([1,1]), np.array([[0],[1]])))"
   ]
  },
  {
   "cell_type": "markdown",
   "metadata": {},
   "source": [
    "# Plotting function in 2D"
   ]
  },
  {
   "cell_type": "code",
   "execution_count": 18,
   "metadata": {},
   "outputs": [],
   "source": [
    "def show_trajs(Z1,Z2, title = \"a plot\", num = 5, savename = \"\", colorbar = True):\n",
    "    \"\"\"function is global variable\n",
    "    works only for 2d plots\n",
    "    num : number of dots numeroted\"\"\"\n",
    "    ## Function as background\n",
    "    xmin = -0.5\n",
    "    xmax = 2\n",
    "    N=100\n",
    "\n",
    "    x1, x2 = np.meshgrid(np.linspace(xmin,xmax, num=N), np.linspace(xmin,xmax, num=N))\n",
    "    coords = np.stack([x1,x2],axis=2)\n",
    "    f_coords = np.apply_along_axis(f,2,coords)\n",
    "    plt.figure(figsize=(4,4))\n",
    "    plt.imshow(f_coords,extent=[xmin,xmax,xmin,xmax], cmap=\"jet\", origin='lower') #cmap = cm.jet\n",
    "    if colorbar : \n",
    "        plt.colorbar(shrink =0.7, ticks = [0,4,8,12,16], pad = -0.15)\n",
    "        \n",
    "    plt.xticks([0,1,2])\n",
    "    plt.yticks([0,1,2])\n",
    "        \n",
    "    ## Scatter trajectory\n",
    "    Zs = [Z1, Z2]\n",
    "    markers = [\"x\",\"o\"]\n",
    "    for k in [0,1]:\n",
    "        Z = Zs[k]\n",
    "        x = Z[:,0]\n",
    "        y = Z[:,1]\n",
    "        T = len(x)\n",
    "        plt.scatter(x=x,y=y,color=\"white\",marker=markers[k],s=10)\n",
    "        for i, txt in enumerate(x):\n",
    "            if i< num :\n",
    "                plt.annotate(str(i), (x[i]+(-1)**k*0.1, y[i]),color=\"white\",fontsize=10)\n",
    "        #adjust_text(texts) --> see https://blog.finxter.com/matplotlib-text-and-annotate-a-simple-guide/\n",
    "\n",
    "    plt.title(title)\n",
    "    plt.subplots_adjust(left=0.1, right=0.9, top=0.9, bottom=0.1)\n",
    "\n",
    "    if (len(savename) > 2):\n",
    "        plt.savefig(savename, bbox_inches='tight')\n",
    "\n",
    "    plt.show()"
   ]
  },
  {
   "cell_type": "code",
   "execution_count": 19,
   "metadata": {},
   "outputs": [],
   "source": [
    "def show_traj(Z, title = \"a plot\", num = 5, savename = \"\", colorbar = True):\n",
    "    \"\"\"function is global variable\n",
    "    works only for 2d plots\n",
    "    num : number of dots numeroted\"\"\"\n",
    "    ## Function as background\n",
    "    xmin = -0.5\n",
    "    xmax = 2\n",
    "    N=100\n",
    "\n",
    "    x1, x2 = np.meshgrid(np.linspace(xmin,xmax, num=N), np.linspace(xmin,xmax, num=N))\n",
    "    coords = np.stack([x1,x2],axis=2)\n",
    "    f_coords = np.apply_along_axis(f,2,coords)\n",
    "    \n",
    "    ## Scatter trajectory\n",
    "    x = Z[:,0]\n",
    "    y = Z[:,1]\n",
    "    T = len(x)\n",
    "    \n",
    "    plt.figure(figsize=(4,4))\n",
    "    plt.scatter(x=x,y=y,color=\"white\",marker=\"x\")\n",
    "    plt.imshow(f_coords,extent=[xmin,xmax,xmin,xmax], cmap=\"jet\", origin='lower') #cmap = cm.jet\n",
    "    \n",
    "    for i, txt in enumerate(x):\n",
    "        if i< num :\n",
    "            plt.annotate(str(i), (x[i]-0.1, y[i]),color=\"white\",fontsize=10)\n",
    "        #adjust_text(texts) --> see https://blog.finxter.com/matplotlib-text-and-annotate-a-simple-guide/\n",
    "    \n",
    "\n",
    "    plt.title(title)\n",
    "\n",
    "    if (len(savename) > 2):\n",
    "        plt.savefig(savename, bbox_inches='tight')\n",
    "\n",
    "    plt.show()"
   ]
  },
  {
   "cell_type": "code",
   "execution_count": 20,
   "metadata": {
    "scrolled": false
   },
   "outputs": [
    {
     "data": {
      "image/png": "[encoded data removed]",
      "text/plain": [
       "<Figure size 288x288 with 1 Axes>"
      ]
     },
     "metadata": {
      "needs_background": "light"
     },
     "output_type": "display_data"
    }
   ],
   "source": [
    "show_traj(np.array([[1.5,1.5]]), title = \"function and initial point\")"
   ]
  },
  {
   "cell_type": "markdown",
   "metadata": {},
   "source": [
    "# Classic Gradient Descent"
   ]
  },
  {
   "cell_type": "code",
   "execution_count": 21,
   "metadata": {},
   "outputs": [],
   "source": [
    "def GD(alpha = 0.1,z0 = np.array([1.5,1.5]), epsilon=0.1):\n",
    "    \"\"\"\n",
    "        Runs Gradient Descent until accuracy epsilon // how about for some time horizon T ?\n",
    "    \"\"\"\n",
    "    Tmax = 1000\n",
    "    Z = [z0]\n",
    "    G = [df(z0)] \n",
    "    C = [0]\n",
    "    \n",
    "    while len(Z)<Tmax: \n",
    "        zprev = Z[-1]\n",
    "        gprev = G[-1]\n",
    "        znext = zprev-alpha*gprev\n",
    "        Z.append(znext)\n",
    "        G.append(df(znext))\n",
    "        C.append(len(z0))\n",
    "        if np.linalg.norm(G[-1])<epsilon**(1/2):\n",
    "            #STOPING CONDITION\n",
    "            #Previous stopping was: f(zprev)-f(znext)<epsilon: \n",
    "            break\n",
    "\n",
    "    if len(Z)>=Tmax:\n",
    "        print(\"WARNING convergence has failed, max number of interations is reached!\")\n",
    "        \n",
    "    return (np.array(Z),C)"
   ]
  },
  {
   "cell_type": "code",
   "execution_count": 22,
   "metadata": {
    "scrolled": true
   },
   "outputs": [
    {
     "name": "stdout",
     "output_type": "stream",
     "text": [
      "oracle calls : 26\n",
      "number of iterations : 14\n"
     ]
    },
    {
     "data": {
      "image/png": "[encoded data removed]",
      "text/plain": [
       "<Figure size 288x288 with 1 Axes>"
      ]
     },
     "metadata": {
      "needs_background": "light"
     },
     "output_type": "display_data"
    }
   ],
   "source": [
    "H = np.array([[3,0],[0,1]])\n",
    "alpha = 1/12 # 1/6 would be optimal \n",
    "epsilon = 0.1\n",
    "\n",
    "ZGD, CGD = GD(epsilon = epsilon, alpha = alpha) ## 1/6 would be optimal\n",
    "print(\"oracle calls :\", np.sum(CGD))\n",
    "print(\"number of iterations :\", len(ZGD))\n",
    "show_traj(ZGD,title = \"\", savename = \"\", colorbar = False)"
   ]
  },
  {
   "cell_type": "code",
   "execution_count": 23,
   "metadata": {},
   "outputs": [
    {
     "data": {
      "text/plain": [
       "Text(0.5, 1.0, 'In log scale')"
      ]
     },
     "execution_count": 23,
     "metadata": {},
     "output_type": "execute_result"
    },
    {
     "data": {
      "image/png": "[encoded data removed]",
      "text/plain": [
       "<Figure size 720x360 with 2 Axes>"
      ]
     },
     "metadata": {
      "needs_background": "light"
     },
     "output_type": "display_data"
    }
   ],
   "source": [
    "fig, (ax1, ax2) = plt.subplots(1, 2, figsize = (10,5))\n",
    "fig.suptitle('GD iterations')\n",
    "\n",
    "ax1.plot([f(ZGD[i]) for i in range(len(ZGD))])\n",
    "\n",
    "ax2.set_title(\"performance\")\n",
    "ax2.plot([f(ZGD[i]) for i in range(len(ZGD))])\n",
    "ax2.set_yscale(\"log\")\n",
    "ax2.set_title(\"In log scale\")"
   ]
  },
  {
   "cell_type": "code",
   "execution_count": 24,
   "metadata": {},
   "outputs": [],
   "source": [
    "def LRGD(alpha = 0.1,z0 = np.array([1.5,1.5]), rank=1, epsilon=0.1):\n",
    "    \"\"\"a better implementation\"\"\"\n",
    "    Z = [z0] # point\n",
    "    G = [] # gradient\n",
    "    C = [0] # oracle cost\n",
    "    \n",
    "    def GD_iter():\n",
    "        #compute\n",
    "        g = df(Z[-1])\n",
    "        znext = Z[-1]-alpha*g\n",
    "        \n",
    "        #update\n",
    "        Z.append(znext)\n",
    "        G.append(g)\n",
    "        C.append(len(z0))\n",
    "    \n",
    "    def LR_iter():\n",
    "        #print(\"lr iter : \", len(Z))\n",
    "        #print(\"current pos : \", Z[-1])\n",
    "        \n",
    "        #compute\n",
    "        g = deltaf(Z[-1],G[-1])*G[-1]/np.linalg.norm(G[-1])\n",
    "        #g = df(Z[-1]).dot(G[-1])/np.linalg.norm(G[-1])*G[-1]\n",
    "        znext = Z[-1]-alpha*g\n",
    "        \n",
    "        #update\n",
    "        Z.append(znext)\n",
    "        G.append(g)\n",
    "        C.append(rank)\n",
    "        #print(\"next pos : \", Z[-1])\n",
    "        \n",
    "        \n",
    "    GD_iter()\n",
    "    \n",
    "    while np.linalg.norm(G[-1]) > epsilon**(1/2): \n",
    "        #print(\"hi\", np.linalg.norm(G[-1]))\n",
    "        \n",
    "        LR_iter()\n",
    "        \n",
    "        if np.linalg.norm(G[-1]) < epsilon**(1/2): \n",
    "        \n",
    "            GD_iter()\n",
    "    \n",
    "    return (np.array(Z),C)"
   ]
  },
  {
   "cell_type": "code",
   "execution_count": 25,
   "metadata": {},
   "outputs": [
    {
     "name": "stdout",
     "output_type": "stream",
     "text": [
      "oracle calls :  25\n",
      "number of iterations :  22\n"
     ]
    },
    {
     "data": {
      "image/png": "[encoded data removed]",
      "text/plain": [
       "<Figure size 288x288 with 1 Axes>"
      ]
     },
     "metadata": {
      "needs_background": "light"
     },
     "output_type": "display_data"
    }
   ],
   "source": [
    "ZLRGD,CLRGD = LRGD(epsilon=0.1, alpha = alpha)\n",
    "print(\"oracle calls : \", np.sum(CLRGD))\n",
    "print(\"number of iterations : \", len(ZLRGD))\n",
    "show_traj(ZLRGD,title = \"\",colorbar = False)"
   ]
  },
  {
   "cell_type": "code",
   "execution_count": 26,
   "metadata": {},
   "outputs": [
    {
     "data": {
      "text/plain": [
       "array([[1., 1., 1.],\n",
       "       [1., 1., 1.]])"
      ]
     },
     "execution_count": 26,
     "metadata": {},
     "output_type": "execute_result"
    }
   ],
   "source": [
    "d = 3\n",
    "r = 2\n",
    "T = 10\n",
    "G = np.ones((T,d))\n",
    "G[-r:].shape\n",
    "G[-r:]"
   ]
  },
  {
   "cell_type": "code",
   "execution_count": 27,
   "metadata": {},
   "outputs": [
    {
     "data": {
      "text/plain": [
       "(3, 1)"
      ]
     },
     "execution_count": 27,
     "metadata": {},
     "output_type": "execute_result"
    }
   ],
   "source": [
    "G[-1:].T.shape"
   ]
  },
  {
   "cell_type": "code",
   "execution_count": 28,
   "metadata": {},
   "outputs": [
    {
     "data": {
      "text/plain": [
       "(array([[0.57735027],\n",
       "        [0.57735027],\n",
       "        [0.57735027]]), array([1.73205081]), array([[1.]]))"
      ]
     },
     "execution_count": 28,
     "metadata": {},
     "output_type": "execute_result"
    }
   ],
   "source": [
    "np.linalg.svd(G[-1:].T,full_matrices=False)"
   ]
  },
  {
   "cell_type": "code",
   "execution_count": 29,
   "metadata": {},
   "outputs": [],
   "source": [
    "def LRGD_r(alpha = 0.1,z0 = np.array([1.5,1.5]), rank=1, epsilon=0.1):\n",
    "    \"\"\"\n",
    "        Implementation of LRGD for rank r\n",
    "    \"\"\"\n",
    "    Z = [z0] # point\n",
    "    G = [] # gradient\n",
    "    C = [0] # oracle cost\n",
    "    \n",
    "    def GD_iter():\n",
    "        #compute\n",
    "        g = df(Z[-1])\n",
    "        znext = Z[-1]-alpha*g\n",
    "        \n",
    "        #update\n",
    "        Z.append(znext)\n",
    "        G.append(g)\n",
    "        C.append(len(z0))\n",
    "    \n",
    "    def LR_iter():\n",
    "        \"\"\"Only called after len(G)>=r\"\"\"\n",
    "        \n",
    "        # Previous gradients are in columns of G[-r:].T\n",
    "        # They are orthonormalised by svd and then lie as columns of U\n",
    "        U, _ , _ = np.linalg.svd(np.array(G[-rank:]).T,full_matrices=False)\n",
    "        g = deltafU(Z[-1],U)\n",
    "        znext = Z[-1]-alpha*g\n",
    "        \n",
    "        #update\n",
    "        Z.append(znext)\n",
    "        G.append(g)\n",
    "        C.append(rank)\n",
    "        #print(\"next pos : \", Z[-1])\n",
    "    \n",
    "    # INITIALIZATION\n",
    "    for _ in range(rank):\n",
    "        GD_iter()\n",
    "    \n",
    "    # RUNNING\n",
    "    while np.linalg.norm(G[-1]) > epsilon**(1/2): \n",
    "        #print(\"hi\", np.linalg.norm(G[-1]))\n",
    "        \n",
    "        LR_iter()\n",
    "        \n",
    "        if np.linalg.norm(G[-1]) < epsilon**(1/2): \n",
    "        \n",
    "            GD_iter()\n",
    "    \n",
    "    return (np.array(Z),C)"
   ]
  },
  {
   "cell_type": "code",
   "execution_count": 103,
   "metadata": {},
   "outputs": [
    {
     "name": "stdout",
     "output_type": "stream",
     "text": [
      "oracle calls :  25\n",
      "number of iterations :  22\n"
     ]
    },
    {
     "data": {
      "image/png": "[encoded data removed]",
      "text/plain": [
       "<Figure size 288x288 with 1 Axes>"
      ]
     },
     "metadata": {
      "needs_background": "light"
     },
     "output_type": "display_data"
    }
   ],
   "source": [
    "ZLRGD,CLRGD = LRGD_r(epsilon=0.1, alpha = alpha, rank=1)\n",
    "print(\"oracle calls : \", np.sum(CLRGD))\n",
    "print(\"number of iterations : \", len(ZLRGD))\n",
    "show_traj(ZLRGD,title = \"\",colorbar = False)"
   ]
  },
  {
   "cell_type": "code",
   "execution_count": 65,
   "metadata": {},
   "outputs": [
    {
     "data": {
      "image/png": "[encoded data removed]",
      "text/plain": [
       "<Figure size 288x288 with 2 Axes>"
      ]
     },
     "metadata": {
      "needs_background": "light"
     },
     "output_type": "display_data"
    }
   ],
   "source": [
    "show_trajs(ZGD,ZLRGD,title = \"\",savename = \"GD_LRGD.pdf\",colorbar = True)"
   ]
  },
  {
   "cell_type": "code",
   "execution_count": 66,
   "metadata": {},
   "outputs": [
    {
     "data": {
      "image/png": "[encoded data removed]",
      "text/plain": [
       "<Figure size 288x288 with 1 Axes>"
      ]
     },
     "metadata": {
      "needs_background": "light"
     },
     "output_type": "display_data"
    }
   ],
   "source": [
    "#### PLOT OF LRGD - by oracle call\n",
    "fig, ax = plt.subplots(figsize = (4,4))\n",
    "ax.plot(np.cumsum(CLRGD),[f(ZLRGD[i]) for i in range(len(ZLRGD))],label =\"LRGD\")\n",
    "ax.plot(np.cumsum(CGD),[f(ZGD[i]) for i in range(len(ZGD))],label = \"GD\")\n",
    "ax.set_xlim(left = 0, right = np.sum(CLRGD))\n",
    "fig.legend(loc=\"center\")\n",
    "plt.xticks([0,5,10,15,20,25])\n",
    "plt.yticks([0,4,8])\n",
    "plt.ylabel(\"precision $\\epsilon$\")\n",
    "plt.xlabel(\"# of oracle calls\")\n",
    "plt.subplots_adjust(left=0.1, right=0.9, top=0.9, bottom=0.1)\n",
    "plt.savefig(\"GD_LRGD_iterations.pdf\")"
   ]
  },
  {
   "cell_type": "code",
   "execution_count": 14,
   "metadata": {},
   "outputs": [
    {
     "data": {
      "text/plain": [
       "0.019654968102330743"
      ]
     },
     "execution_count": 14,
     "metadata": {},
     "output_type": "execute_result"
    }
   ],
   "source": [
    "f(ZGD[-1])"
   ]
  },
  {
   "cell_type": "code",
   "execution_count": 15,
   "metadata": {},
   "outputs": [
    {
     "data": {
      "image/png": "[encoded data removed]",
      "text/plain": [
       "<Figure size 360x360 with 1 Axes>"
      ]
     },
     "metadata": {
      "needs_background": "light"
     },
     "output_type": "display_data"
    }
   ],
   "source": [
    "plt.subplots(figsize=(5, 5))\n",
    "plt.xlim([0,13])\n",
    "plt.ylim([-1,9])\n",
    "plt.plot([f(ZGD[i]) for i in range(len(ZGD))])\n",
    "plt.savefig(\"GD_iterations.pdf\")"
   ]
  },
  {
   "cell_type": "code",
   "execution_count": 16,
   "metadata": {},
   "outputs": [
    {
     "data": {
      "image/png": "[encoded data removed]",
      "text/plain": [
       "<Figure size 360x360 with 1 Axes>"
      ]
     },
     "metadata": {
      "needs_background": "light"
     },
     "output_type": "display_data"
    }
   ],
   "source": [
    "#### ENCAPSULATE THIS IN NICE PLOTS\n",
    "plt.subplots(figsize = (5,5))\n",
    "\n",
    "plt.xlim([0,21])\n",
    "plt.ylim([-1,9])\n",
    "plt.plot([f(ZLRGD[i]) for i in range(len(ZLRGD))])\n",
    "\n",
    "for i,c in enumerate(CLRGD):\n",
    "    if c==2 and i>2: \n",
    "        ax1.axvline(x = i-1, color = 'r', label = 'axvline - full height', linestyle = \"--\", linewidth = 0.5)\n",
    "        ax2.axvline(x = i-1, color = 'r', label = 'axvline - full height', linestyle = \"--\", linewidth = 0.5)\n",
    "\n",
    "plt.savefig(\"LRGD_iterations.pdf\") "
   ]
  },
  {
   "cell_type": "code",
   "execution_count": 17,
   "metadata": {},
   "outputs": [
    {
     "data": {
      "image/png": "[encoded data removed]",
      "text/plain": [
       "<Figure size 720x360 with 2 Axes>"
      ]
     },
     "metadata": {
      "needs_background": "light"
     },
     "output_type": "display_data"
    }
   ],
   "source": [
    "#### ENCAPSULATE THIS IN NICE PLOTS\n",
    "fig, (ax1, ax2) = plt.subplots(1, 2, figsize = (10,5))\n",
    "fig.suptitle('LRGD iterations')\n",
    "\n",
    "ax1.plot([f(ZLRGD[i]) for i in range(len(ZLRGD))])\n",
    "ax1.set_xlim(left = 0, right = len(ZLRGD)-1)\n",
    "\n",
    "ax2.set_title(\"performance\")\n",
    "ax2.plot([f(ZLRGD[i]) for i in range(len(ZLRGD))])\n",
    "ax2.set_xlim(left = 0, right = len(ZLRGD)-1)\n",
    "ax2.set_yscale(\"log\")\n",
    "ax2.set_title(\"In log scale\")\n",
    "\n",
    "\n",
    "for i,c in enumerate(CLRGD):\n",
    "    if c==2 and i>2: \n",
    "        ax1.axvline(x = i-1, color = 'r', label = 'axvline - full height', linestyle = \"--\", linewidth = 0.5)\n",
    "        ax2.axvline(x = i-1, color = 'r', label = 'axvline - full height', linestyle = \"--\", linewidth = 0.5)\n",
    "        "
   ]
  },
  {
   "cell_type": "code",
   "execution_count": 18,
   "metadata": {},
   "outputs": [
    {
     "data": {
      "text/plain": [
       "(0, 13)"
      ]
     },
     "execution_count": 18,
     "metadata": {},
     "output_type": "execute_result"
    },
    {
     "data": {
      "image/png": "[encoded data removed]",
      "text/plain": [
       "<Figure size 360x360 with 1 Axes>"
      ]
     },
     "metadata": {
      "needs_background": "light"
     },
     "output_type": "display_data"
    }
   ],
   "source": [
    "#### PLOT OF GD\n",
    "fig, ax = plt.subplots(figsize = (5,5))\n",
    "ax.plot([f(ZGD[i]) for i in range(len(ZGD))])\n",
    "ax.set_xlim(left = 0, right = len(ZGD)-1)"
   ]
  },
  {
   "cell_type": "code",
   "execution_count": 19,
   "metadata": {},
   "outputs": [
    {
     "data": {
      "text/plain": [
       "(0, 21)"
      ]
     },
     "execution_count": 19,
     "metadata": {},
     "output_type": "execute_result"
    },
    {
     "data": {
      "image/png": "[encoded data removed]",
      "text/plain": [
       "<Figure size 360x360 with 1 Axes>"
      ]
     },
     "metadata": {
      "needs_background": "light"
     },
     "output_type": "display_data"
    }
   ],
   "source": [
    "#### PLOT OF LRGD\n",
    "fig, ax = plt.subplots(figsize = (5,5))\n",
    "ax.plot([f(ZLRGD[i]) for i in range(len(ZLRGD))])\n",
    "ax.set_xlim(left = 0, right = len(ZLRGD)-1)"
   ]
  },
  {
   "cell_type": "code",
   "execution_count": 20,
   "metadata": {},
   "outputs": [
    {
     "data": {
      "image/png": "[encoded data removed]",
      "text/plain": [
       "<Figure size 360x360 with 1 Axes>"
      ]
     },
     "metadata": {
      "needs_background": "light"
     },
     "output_type": "display_data"
    }
   ],
   "source": [
    "#### PLOT OF LRGD\n",
    "fig, ax = plt.subplots(figsize = (5,5))\n",
    "ax.plot([f(ZLRGD[i]) for i in range(len(ZLRGD))])\n",
    "ax.set_xlim(left = 0, right = len(ZLRGD)-1)\n",
    "for i,c in enumerate(CLRGD):\n",
    "    if c==2 and i>2: \n",
    "        ax.axvline(x = i-1, color = 'r', label = 'axvline - full height', linestyle = \"--\", linewidth = 0.5)"
   ]
  },
  {
   "cell_type": "code",
   "execution_count": 21,
   "metadata": {},
   "outputs": [
    {
     "data": {
      "text/plain": [
       "(0, 25)"
      ]
     },
     "execution_count": 21,
     "metadata": {},
     "output_type": "execute_result"
    },
    {
     "data": {
      "image/png": "[encoded data removed]",
      "text/plain": [
       "<Figure size 360x360 with 1 Axes>"
      ]
     },
     "metadata": {
      "needs_background": "light"
     },
     "output_type": "display_data"
    }
   ],
   "source": [
    "#### PLOT OF LRGD - by oracle call\n",
    "fig, ax = plt.subplots(figsize = (5,5))\n",
    "ax.plot(np.cumsum(CLRGD),[f(ZLRGD[i]) for i in range(len(ZLRGD))])\n",
    "ax.set_xlim(left = 0, right = np.sum(CLRGD))"
   ]
  },
  {
   "cell_type": "code",
   "execution_count": 22,
   "metadata": {},
   "outputs": [
    {
     "data": {
      "text/plain": [
       "(0, 26)"
      ]
     },
     "execution_count": 22,
     "metadata": {},
     "output_type": "execute_result"
    },
    {
     "data": {
      "image/png": "[encoded data removed]",
      "text/plain": [
       "<Figure size 360x360 with 1 Axes>"
      ]
     },
     "metadata": {
      "needs_background": "light"
     },
     "output_type": "display_data"
    }
   ],
   "source": [
    "#### PLOT OF GD - by oracle call\n",
    "fig, ax = plt.subplots(figsize = (5,5))\n",
    "ax.plot(np.cumsum(CGD),[f(ZGD[i]) for i in range(len(ZGD))])\n",
    "ax.set_xlim(left = 0, right = np.sum(CGD))"
   ]
  },
  {
   "cell_type": "code",
   "execution_count": 105,
   "metadata": {},
   "outputs": [],
   "source": [
    "### NOTE : could relate complexity of LRGD to complexity of Newton's method??? no -> but to complexity of line search. \n"
   ]
  },
  {
   "cell_type": "markdown",
   "metadata": {},
   "source": [
    "# Higher dimension"
   ]
  },
  {
   "cell_type": "code",
   "execution_count": 106,
   "metadata": {},
   "outputs": [],
   "source": [
    "H = np.array(\n",
    "    [[100,0,0],\n",
    "     [0,10,0],\n",
    "     [0,0,1]])\n",
    "\n",
    "alpha = 1/100/10"
   ]
  },
  {
   "cell_type": "code",
   "execution_count": 107,
   "metadata": {},
   "outputs": [
    {
     "name": "stdout",
     "output_type": "stream",
     "text": [
      "oracle calls :  4491\n"
     ]
    }
   ],
   "source": [
    "ZGD,CGD = GD(z0 = np.array([1,1,1]),alpha = alpha, epsilon=0.01)\n",
    "print(\"oracle calls : \", np.sum(CGD))"
   ]
  },
  {
   "cell_type": "code",
   "execution_count": 108,
   "metadata": {},
   "outputs": [
    {
     "name": "stdout",
     "output_type": "stream",
     "text": [
      "oracle calls :  3022\n"
     ]
    }
   ],
   "source": [
    "ZLRGD,CLRGD = LRGD(z0 = np.array([1,1,1]),alpha = alpha, epsilon=0.01)\n",
    "print(\"oracle calls : \", np.sum(CLRGD))"
   ]
  },
  {
   "cell_type": "code",
   "execution_count": 109,
   "metadata": {},
   "outputs": [
    {
     "data": {
      "image/png": "[encoded data removed]",
      "text/plain": [
       "<Figure size 720x360 with 2 Axes>"
      ]
     },
     "metadata": {
      "needs_background": "light"
     },
     "output_type": "display_data"
    }
   ],
   "source": [
    "fig, (ax1, ax2) = plt.subplots(1, 2, figsize = (10,5))\n",
    "fig.suptitle('LRGD iterations')\n",
    "\n",
    "ax1.plot([f(ZLRGD[i]) for i in range(len(ZLRGD))])\n",
    "\n",
    "ax2.set_title(\"performance\")\n",
    "ax2.plot([f(ZLRGD[i]) for i in range(len(ZLRGD))])\n",
    "ax2.set_yscale(\"log\")\n",
    "ax2.set_title(\"In log scale\")\n",
    "\n",
    "\n",
    "for i,c in enumerate(CLRGD):\n",
    "    if c>1: \n",
    "        ax1.axvline(x = i, color = 'r', label = 'axvline - full height', linestyle = \"--\", linewidth = 0.5)\n",
    "        ax2.axvline(x = i, color = 'r', label = 'axvline - full height', linestyle = \"--\", linewidth = 0.5)\n",
    "        "
   ]
  },
  {
   "cell_type": "code",
   "execution_count": 110,
   "metadata": {},
   "outputs": [
    {
     "data": {
      "image/png": "[encoded data removed]",
      "text/plain": [
       "<Figure size 720x360 with 1 Axes>"
      ]
     },
     "metadata": {
      "needs_background": "light"
     },
     "output_type": "display_data"
    }
   ],
   "source": [
    "### TRANSPOSE !!!!!!!!!!!!!!\n",
    "\n",
    "fig, ax = plt.subplots(1, 1, figsize = (10,5))\n",
    "\n",
    "ax.plot(np.cumsum(CLRGD),[f(ZLRGD[i]) for i in range(len(ZLRGD))],label=\"LRGD\")\n",
    "ax.plot(np.cumsum(CGD),[f(ZGD[i]) for i in range(len(ZGD))],label=\"GD\")\n",
    "ax.set_yscale(\"log\")\n",
    "ax.set_ylabel(\"precision (log scale)\")\n",
    "ax.set_xlabel(\"oracle calls\")\n",
    "ax.set_xlim(left=0,right=200)\n",
    "ax.legend()\n",
    "fig.savefig(\"GDvsLRGD.png\")"
   ]
  },
  {
   "cell_type": "markdown",
   "metadata": {},
   "source": [
    "# More experiments"
   ]
  },
  {
   "cell_type": "code",
   "execution_count": 111,
   "metadata": {},
   "outputs": [
    {
     "name": "stdout",
     "output_type": "stream",
     "text": [
      "oracle calls GD :  14\n",
      "oracle calls LRGD :  11\n"
     ]
    },
    {
     "data": {
      "image/png": "[encoded data removed]",
      "text/plain": [
       "<Figure size 504x504 with 1 Axes>"
      ]
     },
     "metadata": {
      "needs_background": "light"
     },
     "output_type": "display_data"
    }
   ],
   "source": [
    "H = np.array(\n",
    "    [[3,0],\n",
    "     [0,0]])\n",
    "\n",
    "z0 = np.array([1,2])\n",
    "\n",
    "ZGD,CGD = GD(z0 = z0,epsilon=0.0001)\n",
    "print(\"oracle calls GD : \", np.sum(CGD))\n",
    "\n",
    "ZLRGD,CLRGD = LRGD(z0 = z0,epsilon=0.0001)\n",
    "print(\"oracle calls LRGD : \", np.sum(CLRGD))\n",
    "\n",
    "show_traj(ZLRGD,title = \"LRGD\")"
   ]
  },
  {
   "cell_type": "code",
   "execution_count": 112,
   "metadata": {},
   "outputs": [
    {
     "data": {
      "image/png": "[encoded data removed]",
      "text/plain": [
       "<Figure size 720x360 with 1 Axes>"
      ]
     },
     "metadata": {
      "needs_background": "light"
     },
     "output_type": "display_data"
    }
   ],
   "source": [
    "fig, ax = plt.subplots(1, 1, figsize = (10,5))\n",
    "\n",
    "ax.plot(np.cumsum(CLRGD),[f(ZLRGD[i]) for i in range(len(ZLRGD))],label=\"LRGD\")\n",
    "ax.plot(np.cumsum(CGD),[f(ZGD[i]) for i in range(len(ZGD))],label=\"GD\")\n",
    "ax.set_yscale(\"log\")\n",
    "ax.set_ylabel(\"precision (log scale)\")\n",
    "ax.set_xlabel(\"oracle calls\")\n",
    "ax.legend()\n",
    "fig.savefig(\"GDvsLRGD.png\")"
   ]
  },
  {
   "cell_type": "markdown",
   "metadata": {},
   "source": [
    "# Large scale experiments"
   ]
  },
  {
   "cell_type": "code",
   "execution_count": 125,
   "metadata": {},
   "outputs": [
    {
     "data": {
      "text/html": [
       "<div>\n",
       "<style scoped>\n",
       "    .dataframe tbody tr th:only-of-type {\n",
       "        vertical-align: middle;\n",
       "    }\n",
       "\n",
       "    .dataframe tbody tr th {\n",
       "        vertical-align: top;\n",
       "    }\n",
       "\n",
       "    .dataframe thead th {\n",
       "        text-align: right;\n",
       "    }\n",
       "</style>\n",
       "<table border=\"1\" class=\"dataframe\">\n",
       "  <thead>\n",
       "    <tr style=\"text-align: right;\">\n",
       "      <th></th>\n",
       "      <th>[[1 0]\n",
       " [0 1]]</th>\n",
       "      <th>[[10  0]\n",
       " [ 0  1]]</th>\n",
       "      <th>[[100   0]\n",
       " [  0   1]]</th>\n",
       "      <th>[[1000    0]\n",
       " [   0    1]]</th>\n",
       "    </tr>\n",
       "  </thead>\n",
       "  <tbody>\n",
       "    <tr>\n",
       "      <th>[1. 0.]</th>\n",
       "      <td>5.0</td>\n",
       "      <td>5.0</td>\n",
       "      <td>5.0</td>\n",
       "      <td>5.0</td>\n",
       "    </tr>\n",
       "    <tr>\n",
       "      <th>[0.87 0.5 ]</th>\n",
       "      <td>5.0</td>\n",
       "      <td>20.0</td>\n",
       "      <td>130.0</td>\n",
       "      <td>1190.0</td>\n",
       "    </tr>\n",
       "    <tr>\n",
       "      <th>[0.71 0.71]</th>\n",
       "      <td>5.0</td>\n",
       "      <td>26.0</td>\n",
       "      <td>166.0</td>\n",
       "      <td>1536.0</td>\n",
       "    </tr>\n",
       "    <tr>\n",
       "      <th>[0.5  0.87]</th>\n",
       "      <td>5.0</td>\n",
       "      <td>31.0</td>\n",
       "      <td>195.0</td>\n",
       "      <td>1746.0</td>\n",
       "    </tr>\n",
       "    <tr>\n",
       "      <th>[0. 1.]</th>\n",
       "      <td>5.0</td>\n",
       "      <td>22.0</td>\n",
       "      <td>188.0</td>\n",
       "      <td>1848.0</td>\n",
       "    </tr>\n",
       "  </tbody>\n",
       "</table>\n",
       "</div>"
      ],
      "text/plain": [
       "             [[1 0]\\n [0 1]]  [[10  0]\\n [ 0  1]]  [[100   0]\\n [  0   1]]  \\\n",
       "[1. 0.]                  5.0                  5.0                      5.0   \n",
       "[0.87 0.5 ]              5.0                 20.0                    130.0   \n",
       "[0.71 0.71]              5.0                 26.0                    166.0   \n",
       "[0.5  0.87]              5.0                 31.0                    195.0   \n",
       "[0. 1.]                  5.0                 22.0                    188.0   \n",
       "\n",
       "             [[1000    0]\\n [   0    1]]  \n",
       "[1. 0.]                              5.0  \n",
       "[0.87 0.5 ]                       1190.0  \n",
       "[0.71 0.71]                       1536.0  \n",
       "[0.5  0.87]                       1746.0  \n",
       "[0. 1.]                           1848.0  "
      ]
     },
     "execution_count": 125,
     "metadata": {},
     "output_type": "execute_result"
    }
   ],
   "source": [
    "### NEED TO ADAPT LEARNING RATE\n",
    "### alpha = 1/L where L is smoothness of gradient. i.e. max singular value\n",
    "\n",
    "\n",
    "H1 = np.array([[1,0],\n",
    "               [0,1]])\n",
    "\n",
    "H2 = np.array([[10,0],\n",
    "               [0,1]])\n",
    "\n",
    "H3 = np.array([[100,0],\n",
    "                [0,1]])\n",
    "\n",
    "H4 = np.array([[1000,0],\n",
    "                [0,1]])\n",
    "\n",
    "\n",
    "Hs = [H1,H2,H3,H4]\n",
    "\n",
    "alphas = np.array([1, 1/10, 1/100,1/1000])/2 #/2 is optimal\n",
    "\n",
    "z0s = np.array([[1,0],\n",
    "                [0.87,0.5], #sin(30)\n",
    "                [0.71,0.71],#à peu près 1/sqrt(2)\n",
    "                [0.5,0.87],\n",
    "                [0,1]]) \n",
    "\n",
    "columns = [str(el) for el in Hs]\n",
    "indices = [str(el) for el in z0s]\n",
    "data_lrgd = np.zeros(shape = (len(indices),len(columns)))\n",
    "data_gd = np.zeros(shape = (len(indices),len(columns)))\n",
    "#zdata = {}\n",
    "\n",
    "for j in range(len(Hs)): \n",
    "    for i in range(len(z0s)):\n",
    "        H = Hs[j]\n",
    "        ZLRGD,C = LRGD(z0 = z0s[i],epsilon=0.1, alpha = alphas[j])\n",
    "        data_lrgd[i,j] = np.sum(C)\n",
    "        ZGD,C = GD(z0 = z0s[i],epsilon=0.1, alpha = alphas[j])\n",
    "        data_gd[i,j] = np.sum(C)\n",
    "        #zdata[str(i)+\",\"+str(j)]=ZLRGD.copy()\n",
    "\n",
    "results_lrgd = pd.DataFrame(columns = columns,index = indices, data = data_lrgd)\n",
    "results_gd = pd.DataFrame(columns = columns,index = indices, data = data_gd)\n",
    "\n",
    "results_lrgd"
   ]
  },
  {
   "cell_type": "code",
   "execution_count": 126,
   "metadata": {},
   "outputs": [
    {
     "data": {
      "text/html": [
       "<div>\n",
       "<style scoped>\n",
       "    .dataframe tbody tr th:only-of-type {\n",
       "        vertical-align: middle;\n",
       "    }\n",
       "\n",
       "    .dataframe tbody tr th {\n",
       "        vertical-align: top;\n",
       "    }\n",
       "\n",
       "    .dataframe thead th {\n",
       "        text-align: right;\n",
       "    }\n",
       "</style>\n",
       "<table border=\"1\" class=\"dataframe\">\n",
       "  <thead>\n",
       "    <tr style=\"text-align: right;\">\n",
       "      <th></th>\n",
       "      <th>[[1 0]\n",
       " [0 1]]</th>\n",
       "      <th>[[10  0]\n",
       " [ 0  1]]</th>\n",
       "      <th>[[100   0]\n",
       " [  0   1]]</th>\n",
       "      <th>[[1000    0]\n",
       " [   0    1]]</th>\n",
       "    </tr>\n",
       "  </thead>\n",
       "  <tbody>\n",
       "    <tr>\n",
       "      <th>[1. 0.]</th>\n",
       "      <td>2.0</td>\n",
       "      <td>2.0</td>\n",
       "      <td>2.0</td>\n",
       "      <td>2.0</td>\n",
       "    </tr>\n",
       "    <tr>\n",
       "      <th>[0.87 0.5 ]</th>\n",
       "      <td>2.0</td>\n",
       "      <td>22.0</td>\n",
       "      <td>230.0</td>\n",
       "      <td>2302.0</td>\n",
       "    </tr>\n",
       "    <tr>\n",
       "      <th>[0.71 0.71]</th>\n",
       "      <td>2.0</td>\n",
       "      <td>30.0</td>\n",
       "      <td>300.0</td>\n",
       "      <td>3004.0</td>\n",
       "    </tr>\n",
       "    <tr>\n",
       "      <th>[0.5  0.87]</th>\n",
       "      <td>2.0</td>\n",
       "      <td>34.0</td>\n",
       "      <td>340.0</td>\n",
       "      <td>3410.0</td>\n",
       "    </tr>\n",
       "    <tr>\n",
       "      <th>[0. 1.]</th>\n",
       "      <td>2.0</td>\n",
       "      <td>36.0</td>\n",
       "      <td>368.0</td>\n",
       "      <td>3688.0</td>\n",
       "    </tr>\n",
       "  </tbody>\n",
       "</table>\n",
       "</div>"
      ],
      "text/plain": [
       "             [[1 0]\\n [0 1]]  [[10  0]\\n [ 0  1]]  [[100   0]\\n [  0   1]]  \\\n",
       "[1. 0.]                  2.0                  2.0                      2.0   \n",
       "[0.87 0.5 ]              2.0                 22.0                    230.0   \n",
       "[0.71 0.71]              2.0                 30.0                    300.0   \n",
       "[0.5  0.87]              2.0                 34.0                    340.0   \n",
       "[0. 1.]                  2.0                 36.0                    368.0   \n",
       "\n",
       "             [[1000    0]\\n [   0    1]]  \n",
       "[1. 0.]                              2.0  \n",
       "[0.87 0.5 ]                       2302.0  \n",
       "[0.71 0.71]                       3004.0  \n",
       "[0.5  0.87]                       3410.0  \n",
       "[0. 1.]                           3688.0  "
      ]
     },
     "execution_count": 126,
     "metadata": {},
     "output_type": "execute_result"
    }
   ],
   "source": [
    "results_gd"
   ]
  },
  {
   "cell_type": "code",
   "execution_count": 127,
   "metadata": {},
   "outputs": [],
   "source": [
    "# INTERPRETATION\n",
    "# dans les directions où le learning rate est trop bas (pcq le learning rate est conçu pour les directions les plus coûteuses)\n",
    "# "
   ]
  },
  {
   "cell_type": "code",
   "execution_count": 445,
   "metadata": {},
   "outputs": [
    {
     "data": {
      "text/plain": [
       "35"
      ]
     },
     "execution_count": 445,
     "metadata": {},
     "output_type": "execute_result"
    }
   ],
   "source": [
    "i = 1\n",
    "j = 1\n",
    "H = Hs[j]\n",
    "ZLRGD,C = LRGD(z0 = z0s[i],epsilon=0.1, alpha = alphas[j])\n",
    "np.sum(C)"
   ]
  },
  {
   "cell_type": "code",
   "execution_count": 446,
   "metadata": {},
   "outputs": [
    {
     "data": {
      "text/plain": [
       "array([[ 8.70000000e-01,  5.00000000e-01],\n",
       "       [ 4.35000000e-01,  4.75000000e-01],\n",
       "       [ 2.16855577e-01,  4.62462964e-01],\n",
       "       [ 1.07460199e-01,  4.56175873e-01],\n",
       "       [ 5.26004480e-02,  4.53023014e-01],\n",
       "       [ 2.50893016e-02,  4.51441914e-01],\n",
       "       [ 1.12929724e-02,  4.50649021e-01],\n",
       "       [ 4.37436954e-03,  4.50251401e-01],\n",
       "       [ 2.18718477e-03,  4.27738831e-01],\n",
       "       [ 1.18562436e-04,  4.06446617e-01],\n",
       "       [-1.83792447e-03,  3.86308607e-01],\n",
       "       [-3.68835456e-03,  3.67262234e-01],\n",
       "       [-5.43847694e-03,  3.49248323e-01],\n",
       "       [-7.09372906e-03,  3.32210906e-01],\n",
       "       [-8.65925364e-03,  3.16097049e-01],\n",
       "       [-1.01399146e-02,  3.00856689e-01],\n",
       "       [-1.15403122e-02,  2.86442475e-01],\n",
       "       [-1.28647974e-02,  2.72809624e-01],\n",
       "       [-1.41174851e-02,  2.59915779e-01],\n",
       "       [-1.53022675e-02,  2.47720881e-01],\n",
       "       [-1.64228254e-02,  2.36187041e-01],\n",
       "       [-1.74826403e-02,  2.25278425e-01],\n",
       "       [-1.84850051e-02,  2.14961141e-01],\n",
       "       [-1.94330338e-02,  2.05203134e-01],\n",
       "       [-2.03296721e-02,  1.95974088e-01],\n",
       "       [-2.11777055e-02,  1.87245327e-01],\n",
       "       [-2.19797690e-02,  1.78989733e-01],\n",
       "       [-2.27383543e-02,  1.71181656e-01],\n",
       "       [-1.13691772e-02,  1.62622573e-01],\n",
       "       [-3.83388667e-03,  1.56949764e-01],\n",
       "       [ 1.16037124e-03,  1.53189926e-01],\n",
       "       [ 5.80185618e-04,  1.45530429e-01]])"
      ]
     },
     "execution_count": 446,
     "metadata": {},
     "output_type": "execute_result"
    }
   ],
   "source": [
    "ZLRGD"
   ]
  },
  {
   "cell_type": "code",
   "execution_count": 447,
   "metadata": {},
   "outputs": [
    {
     "data": {
      "text/plain": [
       "array([[ 8.70000000e-01,  5.00000000e-01],\n",
       "       [ 4.35000000e-01,  4.75000000e-01],\n",
       "       [ 2.16855577e-01,  4.62462964e-01],\n",
       "       [ 1.07460199e-01,  4.56175873e-01],\n",
       "       [ 5.26004480e-02,  4.53023014e-01],\n",
       "       [ 2.50893016e-02,  4.51441914e-01],\n",
       "       [ 1.12929724e-02,  4.50649021e-01],\n",
       "       [ 4.37436954e-03,  4.50251401e-01],\n",
       "       [ 2.18718477e-03,  4.27738831e-01],\n",
       "       [ 1.18562436e-04,  4.06446617e-01],\n",
       "       [-1.83792447e-03,  3.86308607e-01],\n",
       "       [-3.68835456e-03,  3.67262234e-01],\n",
       "       [-5.43847694e-03,  3.49248323e-01],\n",
       "       [-7.09372906e-03,  3.32210906e-01],\n",
       "       [-8.65925364e-03,  3.16097049e-01],\n",
       "       [-1.01399146e-02,  3.00856689e-01],\n",
       "       [-1.15403122e-02,  2.86442475e-01],\n",
       "       [-1.28647974e-02,  2.72809624e-01],\n",
       "       [-1.41174851e-02,  2.59915779e-01],\n",
       "       [-1.53022675e-02,  2.47720881e-01],\n",
       "       [-1.64228254e-02,  2.36187041e-01],\n",
       "       [-1.74826403e-02,  2.25278425e-01],\n",
       "       [-1.84850051e-02,  2.14961141e-01],\n",
       "       [-1.94330338e-02,  2.05203134e-01],\n",
       "       [-2.03296721e-02,  1.95974088e-01],\n",
       "       [-2.11777055e-02,  1.87245327e-01],\n",
       "       [-2.19797690e-02,  1.78989733e-01],\n",
       "       [-2.27383543e-02,  1.71181656e-01],\n",
       "       [-1.13691772e-02,  1.62622573e-01],\n",
       "       [-3.83388667e-03,  1.56949764e-01],\n",
       "       [ 1.16037124e-03,  1.53189926e-01],\n",
       "       [ 5.80185618e-04,  1.45530429e-01]])"
      ]
     },
     "execution_count": 447,
     "metadata": {},
     "output_type": "execute_result"
    }
   ],
   "source": [
    "ZLRGD"
   ]
  },
  {
   "cell_type": "code",
   "execution_count": 448,
   "metadata": {},
   "outputs": [
    {
     "data": {
      "image/png": "[encoded data removed]",
      "text/plain": [
       "<Figure size 504x504 with 2 Axes>"
      ]
     },
     "metadata": {
      "needs_background": "light"
     },
     "output_type": "display_data"
    }
   ],
   "source": [
    "show_traj(ZLRGD,title = \"Classic GD\")"
   ]
  },
  {
   "cell_type": "code",
   "execution_count": 449,
   "metadata": {},
   "outputs": [
    {
     "ename": "NameError",
     "evalue": "name 'zdata' is not defined",
     "output_type": "error",
     "traceback": [
      "\u001b[1;31m---------------------------------------------------------------------------\u001b[0m",
      "\u001b[1;31mNameError\u001b[0m                                 Traceback (most recent call last)",
      "\u001b[1;32m<ipython-input-449-83be47950c51>\u001b[0m in \u001b[0;36m<module>\u001b[1;34m\u001b[0m\n\u001b[1;32m----> 1\u001b[1;33m \u001b[0mzdata\u001b[0m\u001b[1;33m[\u001b[0m\u001b[1;34m'1,2'\u001b[0m\u001b[1;33m]\u001b[0m\u001b[1;33m\u001b[0m\u001b[1;33m\u001b[0m\u001b[0m\n\u001b[0m",
      "\u001b[1;31mNameError\u001b[0m: name 'zdata' is not defined"
     ]
    }
   ],
   "source": [
    "zdata['1,2']"
   ]
  },
  {
   "cell_type": "markdown",
   "metadata": {},
   "source": [
    "## More complex problems"
   ]
  },
  {
   "cell_type": "markdown",
   "metadata": {},
   "source": [
    "### Synthetic OLS regression (would a complex regularizer be interesting?)"
   ]
  },
  {
   "cell_type": "code",
   "execution_count": 130,
   "metadata": {},
   "outputs": [],
   "source": [
    "##  REGRESSION SETTING\n",
    "##\n",
    "## Y[i] = X[i,:]\\beta + \\sigma N(0,1)\n",
    "\n",
    "n=20\n",
    "p=5\n",
    "sigma = 0.1\n",
    "X = np.random.normal(size = (n,p)) \n",
    "beta = np.ones(shape = (p)) #replace with np.random.normal(size = (p))\n",
    "eps = np.random.normal(size = (n))\n",
    "Y = X.dot(beta) + sigma*eps\n",
    "\n",
    "## Relevant learning rate \n",
    "alpha = 1/(2*np.linalg.norm(2*X.T.dot(X))) ## relevant cause the norm of hessian is upper bound on biggest singular value"
   ]
  },
  {
   "cell_type": "code",
   "execution_count": 131,
   "metadata": {},
   "outputs": [
    {
     "data": {
      "text/plain": [
       "0.37396670654192"
      ]
     },
     "execution_count": 131,
     "metadata": {},
     "output_type": "execute_result"
    }
   ],
   "source": [
    "np.linalg.norm(Y - X.dot(beta))"
   ]
  },
  {
   "cell_type": "code",
   "execution_count": 132,
   "metadata": {},
   "outputs": [
    {
     "name": "stderr",
     "output_type": "stream",
     "text": [
      "C:\\Users\\romai\\AppData\\Local\\Continuum\\anaconda3\\lib\\site-packages\\ipykernel_launcher.py:1: FutureWarning: `rcond` parameter will change to the default of machine precision times ``max(M, N)`` where M and N are the input matrix dimensions.\n",
      "To use the future default and silence this warning we advise to pass `rcond=None`, to keep using the old, explicitly pass `rcond=-1`.\n",
      "  \"\"\"Entry point for launching an IPython kernel.\n"
     ]
    }
   ],
   "source": [
    "betah, residuals, rank, s = np.linalg.lstsq(X,Y)"
   ]
  },
  {
   "cell_type": "code",
   "execution_count": 133,
   "metadata": {},
   "outputs": [
    {
     "data": {
      "text/plain": [
       "0.05501013546495801"
      ]
     },
     "execution_count": 133,
     "metadata": {},
     "output_type": "execute_result"
    }
   ],
   "source": [
    "np.linalg.norm(betah-beta)"
   ]
  },
  {
   "cell_type": "code",
   "execution_count": 134,
   "metadata": {},
   "outputs": [
    {
     "data": {
      "text/plain": [
       "array([1.01495189, 0.99598832, 0.9912344 , 0.97824661, 1.04729077])"
      ]
     },
     "execution_count": 134,
     "metadata": {},
     "output_type": "execute_result"
    }
   ],
   "source": [
    "betah"
   ]
  },
  {
   "cell_type": "code",
   "execution_count": 135,
   "metadata": {},
   "outputs": [],
   "source": [
    "## Define the corresponding functions\n",
    "def f(beta):\n",
    "    \"\"\"f(beta) = ||Xbeta-Y||^2\"\"\"\n",
    "    return np.linalg.norm(X.dot(beta)-Y)**2\n",
    "\n",
    "def df(beta):\n",
    "    return 2*X.T.dot(X.dot(beta)-Y)\n",
    "\n",
    "def deltaf(z,u):\n",
    "    \"\"\"returns directional derivative of f along u\"\"\"\n",
    "    return df(z).dot(u)/np.linalg.norm(u)\n",
    "\n",
    "def deltafU(z,U):\n",
    "    \"\"\"\n",
    "    U =(u_1 | u_2 ... | u_r) orthonormal columns\n",
    "    return projection of gradient on U\n",
    "    \"\"\"\n",
    "    s = 0 \n",
    "    d,r = U.shape\n",
    "    for i in range(r):\n",
    "        ui = U[:,i]\n",
    "        s += deltaf(z,ui)*ui\n",
    "    return s"
   ]
  },
  {
   "cell_type": "code",
   "execution_count": 136,
   "metadata": {},
   "outputs": [
    {
     "name": "stdout",
     "output_type": "stream",
     "text": [
      "at optimum: [ 2.04281037e-14 -3.71924713e-15 -3.59712260e-14 -1.06581410e-14\n",
      " -9.29811783e-15]\n",
      "at zero: [ 0.05805591 -0.03805815  0.14067184  0.54140188 -1.33890675]\n"
     ]
    }
   ],
   "source": [
    "print(\"at optimum:\", df(betah))\n",
    "print(\"at zero:\", df(np.ones(p)))"
   ]
  },
  {
   "cell_type": "code",
   "execution_count": 138,
   "metadata": {},
   "outputs": [
    {
     "data": {
      "text/plain": [
       "355"
      ]
     },
     "execution_count": 138,
     "metadata": {},
     "output_type": "execute_result"
    }
   ],
   "source": [
    "ZGD, CGD = GD(epsilon = 0.001, alpha = alpha, z0 = np.zeros(p), Tmax=1000) ## 1/6 would be optimal\n",
    "np.sum(CGD)"
   ]
  },
  {
   "cell_type": "code",
   "execution_count": 137,
   "metadata": {},
   "outputs": [
    {
     "data": {
      "text/plain": [
       "365"
      ]
     },
     "execution_count": 137,
     "metadata": {},
     "output_type": "execute_result"
    }
   ],
   "source": [
    "ZLRGD, CLRGD = LRGD_r(epsilon=0.001, alpha = alpha, z0 = np.zeros(p), rank=p)\n",
    "np.sum(CLRGD)"
   ]
  },
  {
   "cell_type": "code",
   "execution_count": 150,
   "metadata": {},
   "outputs": [
    {
     "data": {
      "text/html": [
       "<div>\n",
       "<style scoped>\n",
       "    .dataframe tbody tr th:only-of-type {\n",
       "        vertical-align: middle;\n",
       "    }\n",
       "\n",
       "    .dataframe tbody tr th {\n",
       "        vertical-align: top;\n",
       "    }\n",
       "\n",
       "    .dataframe thead th {\n",
       "        text-align: right;\n",
       "    }\n",
       "</style>\n",
       "<table border=\"1\" class=\"dataframe\">\n",
       "  <thead>\n",
       "    <tr style=\"text-align: right;\">\n",
       "      <th></th>\n",
       "      <th>rank 1</th>\n",
       "      <th>rank 2</th>\n",
       "      <th>rank 3</th>\n",
       "      <th>rank 4</th>\n",
       "      <th>rank 5</th>\n",
       "      <th>rank 6</th>\n",
       "      <th>rank p (= GD)</th>\n",
       "    </tr>\n",
       "  </thead>\n",
       "  <tbody>\n",
       "    <tr>\n",
       "      <th>1/2L</th>\n",
       "      <td>157.0</td>\n",
       "      <td>211.0</td>\n",
       "      <td>233.0</td>\n",
       "      <td>238.0</td>\n",
       "      <td>245.0</td>\n",
       "      <td>287.0</td>\n",
       "      <td>245.0</td>\n",
       "    </tr>\n",
       "    <tr>\n",
       "      <th>1/4L</th>\n",
       "      <td>281.0</td>\n",
       "      <td>406.0</td>\n",
       "      <td>443.0</td>\n",
       "      <td>466.0</td>\n",
       "      <td>485.0</td>\n",
       "      <td>575.0</td>\n",
       "      <td>485.0</td>\n",
       "    </tr>\n",
       "    <tr>\n",
       "      <th>1/8L</th>\n",
       "      <td>519.0</td>\n",
       "      <td>784.0</td>\n",
       "      <td>866.0</td>\n",
       "      <td>922.0</td>\n",
       "      <td>970.0</td>\n",
       "      <td>1157.0</td>\n",
       "      <td>970.0</td>\n",
       "    </tr>\n",
       "  </tbody>\n",
       "</table>\n",
       "</div>"
      ],
      "text/plain": [
       "      rank 1  rank 2  rank 3  rank 4  rank 5  rank 6  rank p (= GD)\n",
       "1/2L   157.0   211.0   233.0   238.0   245.0   287.0          245.0\n",
       "1/4L   281.0   406.0   443.0   466.0   485.0   575.0          485.0\n",
       "1/8L   519.0   784.0   866.0   922.0   970.0  1157.0          970.0"
      ]
     },
     "execution_count": 150,
     "metadata": {},
     "output_type": "execute_result"
    }
   ],
   "source": [
    "columns = [\"rank 1\", \"rank 2\", \"rank 3\", \"rank 4\", \"rank 5\", \"rank 6\",\"rank p (= GD)\"]\n",
    "ranks = [1,2,3,4,5,6,p]\n",
    "indices = [\"1/2L\", \"1/4L\", \"1/8L\"]\n",
    "alphas=[alpha, alpha/2,alpha/4]\n",
    "data = np.zeros(shape = (len(indices),len(columns)))\n",
    "\n",
    "for j in range(len(columns)): \n",
    "    for i in range(len(indices)):\n",
    "        ZLRGD,C = LRGD_r(z0 = np.zeros(p),epsilon=0.1, alpha = alphas[i], rank=ranks[j])\n",
    "        data[i,j] = np.sum(C)\n",
    "\n",
    "results = pd.DataFrame(columns = columns,index = indices, data = data)\n",
    "results"
   ]
  },
  {
   "cell_type": "code",
   "execution_count": 72,
   "metadata": {},
   "outputs": [
    {
     "data": {
      "text/plain": [
       "array([1.00517249, 1.02290266, 0.95238129, 0.99825745, 0.99871228])"
      ]
     },
     "execution_count": 72,
     "metadata": {},
     "output_type": "execute_result"
    }
   ],
   "source": [
    "betah"
   ]
  },
  {
   "cell_type": "code",
   "execution_count": 115,
   "metadata": {},
   "outputs": [
    {
     "data": {
      "text/plain": [
       "45600"
      ]
     },
     "execution_count": 115,
     "metadata": {},
     "output_type": "execute_result"
    }
   ],
   "source": [
    "ZGD\n"
   ]
  },
  {
   "cell_type": "code",
   "execution_count": 117,
   "metadata": {},
   "outputs": [
    {
     "data": {
      "text/plain": [
       "7075"
      ]
     },
     "execution_count": 117,
     "metadata": {},
     "output_type": "execute_result"
    }
   ],
   "source": [
    "ZLRGD\n",
    "np.sum(CLRGD)"
   ]
  },
  {
   "cell_type": "code",
   "execution_count": 151,
   "metadata": {},
   "outputs": [],
   "source": [
    "## PLANTED STRUCTURE\n",
    "\n",
    "n=1000\n",
    "p=100\n",
    "sigma = 0.1\n",
    "r=4\n",
    "X = np.random.normal(size = (n,r)).dot(np.random.normal(size=(r,p))) \n",
    "beta = np.ones(shape = (p)) #replace with np.random.normal(size = (p))\n",
    "eps = np.random.normal(size = (n))\n",
    "Y = X.dot(beta) + sigma*eps\n",
    "\n",
    "## Relevant learning rate \n",
    "alpha = 1/(2*np.linalg.norm(2*X.T.dot(X))) ## relevant cause the norm of hessian is upper bound on biggest singular value"
   ]
  },
  {
   "cell_type": "code",
   "execution_count": 152,
   "metadata": {},
   "outputs": [
    {
     "data": {
      "text/html": [
       "<div>\n",
       "<style scoped>\n",
       "    .dataframe tbody tr th:only-of-type {\n",
       "        vertical-align: middle;\n",
       "    }\n",
       "\n",
       "    .dataframe tbody tr th {\n",
       "        vertical-align: top;\n",
       "    }\n",
       "\n",
       "    .dataframe thead th {\n",
       "        text-align: right;\n",
       "    }\n",
       "</style>\n",
       "<table border=\"1\" class=\"dataframe\">\n",
       "  <thead>\n",
       "    <tr style=\"text-align: right;\">\n",
       "      <th></th>\n",
       "      <th>rank 1</th>\n",
       "      <th>rank 2</th>\n",
       "      <th>rank 3</th>\n",
       "      <th>rank 4</th>\n",
       "      <th>rank 5</th>\n",
       "      <th>rank 6</th>\n",
       "      <th>rank p (= GD)</th>\n",
       "    </tr>\n",
       "  </thead>\n",
       "  <tbody>\n",
       "    <tr>\n",
       "      <th>1/2L</th>\n",
       "      <td>1221.0</td>\n",
       "      <td>1112.0</td>\n",
       "      <td>894.0</td>\n",
       "      <td>724.0</td>\n",
       "      <td>875.0</td>\n",
       "      <td>1024.0</td>\n",
       "      <td>10000.0</td>\n",
       "    </tr>\n",
       "    <tr>\n",
       "      <th>1/4L</th>\n",
       "      <td>1475.0</td>\n",
       "      <td>1458.0</td>\n",
       "      <td>1227.0</td>\n",
       "      <td>988.0</td>\n",
       "      <td>1205.0</td>\n",
       "      <td>1420.0</td>\n",
       "      <td>12700.0</td>\n",
       "    </tr>\n",
       "    <tr>\n",
       "      <th>1/8L</th>\n",
       "      <td>1977.0</td>\n",
       "      <td>2256.0</td>\n",
       "      <td>1893.0</td>\n",
       "      <td>1512.0</td>\n",
       "      <td>1860.0</td>\n",
       "      <td>2206.0</td>\n",
       "      <td>25800.0</td>\n",
       "    </tr>\n",
       "  </tbody>\n",
       "</table>\n",
       "</div>"
      ],
      "text/plain": [
       "      rank 1  rank 2  rank 3  rank 4  rank 5  rank 6  rank p (= GD)\n",
       "1/2L  1221.0  1112.0   894.0   724.0   875.0  1024.0        10000.0\n",
       "1/4L  1475.0  1458.0  1227.0   988.0  1205.0  1420.0        12700.0\n",
       "1/8L  1977.0  2256.0  1893.0  1512.0  1860.0  2206.0        25800.0"
      ]
     },
     "execution_count": 152,
     "metadata": {},
     "output_type": "execute_result"
    }
   ],
   "source": [
    "columns = [\"rank 1\", \"rank 2\", \"rank 3\", \"rank 4\", \"rank 5\", \"rank 6\",\"rank p (= GD)\"]\n",
    "ranks = [1,2,3,4,5,6,p]\n",
    "indices = [\"1/2L\", \"1/4L\", \"1/8L\"]\n",
    "alphas=[alpha, alpha/2,alpha/4]\n",
    "data = np.zeros(shape = (len(indices),len(columns)))\n",
    "\n",
    "for j in range(len(columns)): \n",
    "    for i in range(len(indices)):\n",
    "        ZLRGD,C = LRGD_r(z0 = np.zeros(p),epsilon=0.1, alpha = alphas[i], rank=ranks[j])\n",
    "        data[i,j] = np.sum(C)\n",
    "\n",
    "results = pd.DataFrame(columns = columns,index = indices, data = data)\n",
    "results"
   ]
  },
  {
   "cell_type": "code",
   "execution_count": 78,
   "metadata": {},
   "outputs": [
    {
     "data": {
      "text/plain": [
       "8800"
      ]
     },
     "execution_count": 78,
     "metadata": {},
     "output_type": "execute_result"
    }
   ],
   "source": [
    "ZGD, CGD = GD(epsilon = 0.001, alpha = alpha, z0 = np.zeros(p), Tmax=1000) ## 1/6 would be optimal\n",
    "np.sum(CGD)"
   ]
  },
  {
   "cell_type": "code",
   "execution_count": 81,
   "metadata": {},
   "outputs": [
    {
     "data": {
      "text/plain": [
       "1020"
      ]
     },
     "execution_count": 81,
     "metadata": {},
     "output_type": "execute_result"
    }
   ],
   "source": [
    "ZLRGD, CLRGD = LRGD_r(epsilon=0.001, alpha = alpha, z0 = np.zeros(p), rank=5)\n",
    "np.sum(CLRGD)"
   ]
  },
  {
   "cell_type": "markdown",
   "metadata": {},
   "source": [
    "## Least squares with L1 regularizer"
   ]
  },
  {
   "cell_type": "code",
   "execution_count": 105,
   "metadata": {},
   "outputs": [],
   "source": [
    "##  REGRESSION SETTING\n",
    "##\n",
    "## Y[i] = X[i,:]\\beta + \\sigma N(0,1)\n",
    "\n",
    "n=1000\n",
    "p=100\n",
    "sigma = 0.1\n",
    "X = np.random.normal(size = (n,p)) \n",
    "beta = np.ones(shape = (p)) #replace with np.random.normal(size = (p))\n",
    "eps = np.random.normal(size = (n))\n",
    "Y = X.dot(beta) + sigma*eps\n",
    "\n",
    "## Relevant learning rate \n",
    "alpha = 1/(2*np.linalg.norm(2*X.T.dot(X))) ## relevant cause the norm of hessian is upper bound on biggest singular value"
   ]
  },
  {
   "cell_type": "code",
   "execution_count": 106,
   "metadata": {},
   "outputs": [],
   "source": [
    "## Define the corresponding functions\n",
    "def f(beta):\n",
    "    \"\"\"f(beta) = ||Xbeta-Y||^2\"\"\"\n",
    "    return np.linalg.norm(X.dot(beta)-Y)**2+np.linalg.norm(beta, ord=1)\n",
    "\n",
    "def df(beta):\n",
    "    return 2*X.T.dot(X.dot(beta)-Y) + np.sign(beta)\n",
    "\n",
    "def deltaf(z,u):\n",
    "    \"\"\"returns directional derivative of f along u\"\"\"\n",
    "    return df(z).dot(u)/np.linalg.norm(u)\n",
    "\n",
    "def deltafU(z,U):\n",
    "    \"\"\"\n",
    "    U =(u_1 | u_2 ... | u_r) orthonormal columns\n",
    "    return projection of gradient on U\n",
    "    \"\"\"\n",
    "    s = 0 \n",
    "    d,r = U.shape\n",
    "    for i in range(r):\n",
    "        ui = U[:,i]\n",
    "        s += deltaf(z,ui)*ui\n",
    "    return s"
   ]
  },
  {
   "cell_type": "code",
   "execution_count": 107,
   "metadata": {},
   "outputs": [
    {
     "data": {
      "text/plain": [
       "45600"
      ]
     },
     "execution_count": 107,
     "metadata": {},
     "output_type": "execute_result"
    }
   ],
   "source": [
    "ZGD, CGD = GD(epsilon = 0.001, alpha = alpha, z0 = np.zeros(p), Tmax=1000) ## 1/6 would be optimal\n",
    "np.sum(CGD)"
   ]
  },
  {
   "cell_type": "code",
   "execution_count": 114,
   "metadata": {},
   "outputs": [
    {
     "data": {
      "text/plain": [
       "7075"
      ]
     },
     "execution_count": 114,
     "metadata": {},
     "output_type": "execute_result"
    }
   ],
   "source": [
    "ZLRGD, CLRGD = LRGD_r(epsilon=0.001, alpha = alpha, z0 = np.zeros(p), rank=5)\n",
    "np.sum(CLRGD)"
   ]
  },
  {
   "cell_type": "code",
   "execution_count": 91,
   "metadata": {},
   "outputs": [
    {
     "data": {
      "text/plain": [
       "5.0"
      ]
     },
     "execution_count": 91,
     "metadata": {},
     "output_type": "execute_result"
    }
   ],
   "source": [
    "np.linalg.norm(beta, ord=1)"
   ]
  },
  {
   "cell_type": "code",
   "execution_count": 92,
   "metadata": {},
   "outputs": [
    {
     "data": {
      "text/plain": [
       "array([1., 1., 1., 1., 1.])"
      ]
     },
     "execution_count": 92,
     "metadata": {},
     "output_type": "execute_result"
    }
   ],
   "source": [
    "beta"
   ]
  },
  {
   "cell_type": "code",
   "execution_count": 93,
   "metadata": {},
   "outputs": [
    {
     "data": {
      "text/plain": [
       "array([1., 1., 1., 1., 1.])"
      ]
     },
     "execution_count": 93,
     "metadata": {},
     "output_type": "execute_result"
    }
   ],
   "source": [
    "np.sign(beta)"
   ]
  },
  {
   "cell_type": "code",
   "execution_count": 94,
   "metadata": {},
   "outputs": [],
   "source": [
    "beta[2]=-10"
   ]
  },
  {
   "cell_type": "code",
   "execution_count": 95,
   "metadata": {},
   "outputs": [
    {
     "data": {
      "text/plain": [
       "array([ 1.,  1., -1.,  1.,  1.])"
      ]
     },
     "execution_count": 95,
     "metadata": {},
     "output_type": "execute_result"
    }
   ],
   "source": [
    "np.sign(beta)"
   ]
  },
  {
   "cell_type": "code",
   "execution_count": 127,
   "metadata": {},
   "outputs": [],
   "source": [
    "r=20\n",
    "X = np.random.normal(size = (n,r)).dot(np.random.normal(size=(r,p))) "
   ]
  },
  {
   "cell_type": "code",
   "execution_count": 128,
   "metadata": {},
   "outputs": [],
   "source": [
    "u,s,vh = np.linalg.svd(X)"
   ]
  },
  {
   "cell_type": "code",
   "execution_count": 129,
   "metadata": {},
   "outputs": [
    {
     "data": {
      "text/plain": [
       "array([4.42114947e+02, 4.20094185e+02, 4.08499064e+02, 3.94412546e+02,\n",
       "       3.76305513e+02, 3.60056692e+02, 3.55698787e+02, 3.44647230e+02,\n",
       "       3.32307480e+02, 3.22333608e+02, 3.18548471e+02, 2.99768060e+02,\n",
       "       2.76671981e+02, 2.58102581e+02, 2.56892231e+02, 2.49526051e+02,\n",
       "       2.34785832e+02, 2.13148479e+02, 1.92468830e+02, 1.92382417e+02,\n",
       "       2.04606969e-13, 1.30794474e-13, 1.23317015e-13, 1.10611903e-13,\n",
       "       1.06167496e-13, 1.00832921e-13, 9.42294415e-14, 8.72567543e-14,\n",
       "       8.42076127e-14, 8.13811285e-14, 7.30318896e-14, 7.25405681e-14,\n",
       "       6.74522970e-14, 6.67356139e-14, 6.19744613e-14, 5.91091253e-14,\n",
       "       5.57154921e-14, 5.42610147e-14, 4.93140127e-14, 4.51099711e-14,\n",
       "       3.75754859e-14, 3.55524663e-14, 3.45732559e-14, 3.45732559e-14,\n",
       "       3.45732559e-14, 3.45732559e-14, 3.45732559e-14, 3.45732559e-14,\n",
       "       3.45732559e-14, 3.45732559e-14, 3.45732559e-14, 3.45732559e-14,\n",
       "       3.45732559e-14, 3.45732559e-14, 3.45732559e-14, 3.45732559e-14,\n",
       "       3.45732559e-14, 3.45732559e-14, 3.45732559e-14, 3.45732559e-14,\n",
       "       3.45732559e-14, 3.45732559e-14, 3.45732559e-14, 3.45732559e-14,\n",
       "       3.45732559e-14, 3.45732559e-14, 3.45732559e-14, 3.45732559e-14,\n",
       "       3.45732559e-14, 3.45732559e-14, 3.45732559e-14, 3.45732559e-14,\n",
       "       3.45732559e-14, 3.45732559e-14, 3.45732559e-14, 3.45732559e-14,\n",
       "       3.45732559e-14, 3.45732559e-14, 3.45732559e-14, 3.45732559e-14,\n",
       "       3.45732559e-14, 3.45732559e-14, 3.45732559e-14, 3.45732559e-14,\n",
       "       3.45732559e-14, 3.45732559e-14, 3.45732559e-14, 3.45732559e-14,\n",
       "       3.45732559e-14, 3.45732559e-14, 3.45732559e-14, 3.45732559e-14,\n",
       "       3.45732559e-14, 3.45732559e-14, 3.15009480e-14, 3.09231265e-14,\n",
       "       3.00634799e-14, 2.96629771e-14, 2.51527794e-14, 1.87326624e-14])"
      ]
     },
     "execution_count": 129,
     "metadata": {},
     "output_type": "execute_result"
    }
   ],
   "source": [
    "s"
   ]
  },
  {
   "cell_type": "code",
   "execution_count": null,
   "metadata": {},
   "outputs": [],
   "source": []
  }
 ],
 "metadata": {
  "kernelspec": {
   "display_name": "Python 3",
   "language": "python",
   "name": "python3"
  },
  "language_info": {
   "codemirror_mode": {
    "name": "ipython",
    "version": 3
   },
   "file_extension": ".py",
   "mimetype": "text/x-python",
   "name": "python",
   "nbconvert_exporter": "python",
   "pygments_lexer": "ipython3",
   "version": "3.7.3"
  }
 },
 "nbformat": 4,
 "nbformat_minor": 2
}
